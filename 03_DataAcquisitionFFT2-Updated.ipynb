{
 "cells": [
  {
   "cell_type": "markdown",
   "metadata": {},
   "source": [
    "# Laboratory 03 - Introduction to Digital Data Acquisition, FFT,  and Spectrum Analysis 2\n",
    "\n",
    "## MAE 3120, Spring 2023"
   ]
  },
  {
   "cell_type": "markdown",
   "metadata": {},
   "source": [
    "## Grading Rubric\n",
    "\n",
    "Procedures, Results, Plots, Tables - 60%\n",
    "\n",
    "Discussion Questions - 25%\n",
    "\n",
    "Neatness - 15%"
   ]
  },
  {
   "cell_type": "markdown",
   "metadata": {},
   "source": [
    "## Introduction and Background\n",
    "\n",
    "Prior to the 1980s, the oscilloscope and strip-chart recorder represented the most common methods for measurement of time-varying signals. With time PC-based digital data acquisition became standard in most laboratories. By combining high-speed data acquisition cards with graphical software, it is now possible to design complex data acquisition systems with real-time data analysis and plotting features, with minimal programming. The data acquisition hardware converts analog inputs into the digital domain at the specified sampling rate, and the software manipulates and displays the desired output. \n",
    "\n",
    "In this lab we use Python and the NI-DAQmx API for digital data acquisition. Using the ***DAQ*** Jupyter Notebook developed for this class, instructions are issued to the data acquisition hardware, either inside the PC or external to the PC (the hardware we use in our lab is connected through the USB port). The ***DAQ*** can be configured to record data to files, change sampling parameters, and display a live output of your sampled signal. \n",
    "\n",
    "The goal of this tutorial is to provide you with your first experience using the ***DAQ*** notebook to perform data acquisition. You will use the ***DAQ*** to take samples and plot voltage data and to illustrate some limitations of digital data acquisition systems. \n",
    "\n",
    "To help verify that you have configured the ***DAQ*** properly before performing trials, you will learn how to use ***NI MAX*** (a software provided by National Instruments). \n",
    "\n",
    "Ultimately, you will experiment with digital data acquisition and some of its shortcomings. For your report you are expected to save all the data you will acquire in the lab to files and plot them in Python. \n",
    "\n",
    "___\n",
    "\n",
    "In spectral analysis the goal is to determine the frequency content of a signal. Aliasing can be a serious problem with digital data acquisition if the experimenter is not careful. Significant measurement errors called ***aliasing*** errors are possible if the waveform is not sampled at high enough frequency. To avoid aliasing, the ***sampling rate*** must be at least twice the maximum frequency of the measured signal. This restriction is called the ***Nyquist criterion***. Signal aliasing occurs when waveforms are sampled at frequencies below the Nyquist frequency. Aliased signals appear to have frequencies (and possibly even waveform *shapes*) that differ from those of the actual signal. For adequate resolution of the waveform shape, data should be sampled at a much higher frequency – typically at least five times the Nyquist frequency, if possible.\n",
    "\n",
    "Digital PC-based data acquisition will not totally replace oscilloscopes, at least not in the near future. The reason is sampling frequency. The maximum sampling frequency of modern PC A/D systems is typically less than a MHz (megahertz). By comparison, a good digital oscilloscope may sample as high as several GHz (gigahertz)!\n",
    "\n",
    "The fast Fourier transform (FFT) is a computationally efficient form of the more general discrete Fourier transform (DFT), which is itself a discretized version of the even more general Fourier transform (FT). Like Fourier series analysis, FFT analysis enables us to calculate the frequency content of a signal. Fourier series analysis is useful for continuous, periodic, analog signals of known fundamental frequency. FFT analysis, on the other hand, is useful for discretely sampled (digital) data, and can be applied even if the signal is not periodic. With FFT analysis, the fundamental frequency of a periodic signal does not have to be known a priori. NumPy has built-in FFT features, which are utilized in this lab. \n",
    "\n",
    "For $N$ sampled data points at sampling frequency $f_s$, the most useful output of an FFT calculation is the frequency spectrum or amplitude spectrum, which is a plot of modified FFT amplitude versus frequency. The frequency spectrum shows the relative importance or contribution of discrete frequencies, which range from zero to $f_s\\,/\\,2$. (The factor of two is a direct result of the Nyquist criterion.) The number of discrete frequencies on the frequency spectrum plot is $N\\,/\\,2 + 1$. This is half of the number of discretely sampled data points in the original signal, plus one extra since we typically plot both extreme values – from zero Hz (DC component) to the folding frequency $f_\\textit{folding}$. \n",
    "\n",
    "Here are some useful definitions for FFTs:\n",
    "\n",
    "- $N$ is the ***total number of discrete data points*** taken. $N$ is an input parameter, chosen by the user.<br><p></p>\n",
    "\n",
    "- $f_s$ is the ***sampling frequency***, in Hz. $f_s$ is an input parameter, chosen by the user. *All other properties of the FFT, including sampling time, maximum frequency, frequency resolution, etc., are determined solely from these two inputs, $N$ and $f_s$.*<br><p></p>\n",
    "\n",
    "- $T$ is the ***total sampling time***, and is calculated as $T = N\\,/\\,f_s$. To increase the sampling time, we must either *increase* the number of data points, or *decrease* the sampling frequency (or both).<br><p></p>\n",
    "\n",
    "- $f_\\textit{folding}$ is the ***folding frequency***, also called $f_\\textit{max}$, the ***maximum frequency***. $f_\\textit{folding} = f_s\\,/\\,2$. $f_\\textit{folding}$ is the maximum frequency plotted on the frequency spectrum plot, since $f_\\textit{folding}$ is the maximum frequency at which reliable information about the signal can be calculated, due to the Nyquist criterion. The only way to increase $f_\\textit{folding}$ is to increase the sampling frequency.<br><p></p>\n",
    "\n",
    "- $\\Delta f$ is the ***frequency resolution*** or ***frequency increment*** of the frequency spectrum. $\\Delta f = 1\\,/\\,T = f_s\\,/\\,N$. On the frequency spectrum plot, amplitudes of the FFT are plotted at $N\\,/\\,2 + 1$ discrete frequencies, each separated by $\\Delta f$. In other words, the discrete values of $f$ are $0$, $\\Delta f$, $2 \\Delta f$, $3 \\Delta f$, ... , $[(N\\,/\\,2\\,– 1)] \\Delta f$. (The amplitude at exactly $f_\\textit{folding}$, i.e., at $(N\\,/\\,2) \\Delta f$, is also plotted; this results in a total of $(N\\,/\\,2) + 1$ discrete frequencies, counting both $f = 0$ and $f = f_\\textit{folding}$). The *only* way to increase the frequency resolution is to increase sampling time.<br><p></p>\n",
    "\n",
    "Here is a summary of some useful techniques and rules to remember when calculating FFTs:\n",
    "\n",
    "- To get better frequency resolution for a fixed sampling frequency, increase the number of data points.<br><p></p>\n",
    "\n",
    "- To get better frequency resolution for a fixed number of data points, decrease the sampling frequency. (But be careful here not to let $f_s$ fall below the Nyquist criterion limit).<br><p></p>\n",
    "\n",
    "- To get frequency component information at higher frequencies, increase the sampling frequency.<br><p></p>\n",
    "\n",
    "- To reduce ***leakage*** in the frequency spectrum, do one or more of the following:<br><p></p>\n",
    "\n",
    "  - Increase the number of sampled data points $N$ (at the cost of more computer time).<br><p></p>\n",
    "  \n",
    "  - Decrease the sampling frequency $f_s$ (but do not sample at such a low frequency that the Nyquist criterion is violated).<br><p></p>\n",
    "  \n",
    "  - Multiply the time signal by a ***windowing*** function prior to taking the FFT (at the cost of throwing away a significant portion of the signal, in particular data points near the start and finish of the time trace)."
   ]
  },
  {
   "cell_type": "markdown",
   "metadata": {},
   "source": [
    "## Objectives\n",
    "\n",
    "- Practice data acquisition with digital data acquisition systems.<br><p></p>\n",
    "\n",
    "- Learn a simple way to sum two voltage signals.<br><p></p>\n",
    "\n",
    "- Examine the effect of aliasing."
   ]
  },
  {
   "cell_type": "markdown",
   "metadata": {},
   "source": [
    "## Equipment\n",
    "\n",
    "- Computer<br><p></p>\n",
    "\n",
    "- Software: NI MAX, Jupyter<br><p></p>\n",
    "\n",
    "- Hardware: National Instrument CompactDAQ cDAQ-9174, NI-9211 C Series Voltage Input Module <br><p></p>\n",
    "\n",
    "- Function/waveform generator, along with appropriate cables<br><p></p>\n",
    "\n",
    "- Oscilloscope<br><p></p>\n"
   ]
  },
  {
   "cell_type": "markdown",
   "metadata": {},
   "source": [
    "# Procedure\n",
    "\n",
    "\n",
    "### Part I - Preliminary calculations\n",
    "\n",
    "1. Find the number of bits and input range of the DAQ board.  Compute the quantization error $Q$.\n",
    "\n",
    "2. Find the maximum sampling rate of the DAQ board.  Does it come with a multiplexer or multiple ADCs?\n",
    "\n",
    "3. Why is the maximum sampling rate different than the bandwidth of the DAQ?"
   ]
  },
  {
   "cell_type": "markdown",
   "metadata": {},
   "source": [
    "### Part II - Discrete Data Acquisition\n",
    "\n",
    "Here you will demonstrate the digital data acquisition system acquire data at discrete times. We transform the original continuous (analog) signal into a discrete (digital) signal. There is a significant amount of theory regarding digital data acquisition and signal processing that will be introduced in the coming lectures and labs. \n",
    "\n",
    "1. Using a BNC T-Adapter and a BNC cable, connect the waveform/function generator to the first channel of the oscilloscope. <br><p></p>\n",
    "\n",
    "- Using a pair of output wires, connect the waveform/function generator to the first channel of the *NI 9211* module. The positive output should be connected to `TC0+` and the negative to`TC0-`.  The Input channels are already conected to Ground. <br><p></p>\n",
    "\n",
    "- Power on the oscilloscope. Configure the function generator to produce a 10 Hz sine wave, 0V DC Offset, 100 mV peak-to-peak amplitude. Check if the signal on the oscilloscope is the same with the generated signal. Don't forget to select the appropriate impedance in the waveform generator. You can find it under the \"output load\". <br><p></p>\n",
    "\n",
    "- Using the `acquire` function in the third cell of the ***DAQ*** notebook, with the parameters above. <br><p></p>\n",
    "\n",
    "- Verify the signal using the oscilloscope. Run the `acquire` function with no file output to test that the function is working properly. <br><p></p>\n",
    "\n",
    "  - To have a 'live' output in Jupyter, use this line of code: `acquire(120 * fs, fs, time_sep=1, zero_bound=False)`. When you are done observing the output, click the *Stop* button in Jupyter. <br><p></p>\n",
    "\n",
    "- Once you are comfortable with the acquisition, set a file output and save one run of the data for your report. Remember that you can save your data using the `acquire` function (e.g., `acquire(100, 1000, file_out='C:\\\\Users\\\\Josh\\\\Downloads\\\\Lab2_0.csv', output='N')`). <br><p></p>"
   ]
  },
  {
   "cell_type": "markdown",
   "metadata": {},
   "source": [
    "### Part III - Clipping\n",
    " \n",
    "1. Set the function generator to produce a 5 Hz sine wave, 0 V DC Offset, and 100 mV peak-to-peak amplitude. Check the signal using the oscilloscope. <br><p></p>\n",
    "\n",
    "- Set the sampling rate to 14 Hz and the number of samples to 50 in order to record 10s of data (50 full waveforms). Acquire one trial of data and save it to a file using the `acquire` function. <br><p></p>\n",
    "\n",
    "- Using a 'live' output, adjust the DC offset and/or amplitude of the signal produced by the waveform generator to observe how the digital signal is clipped. <br><p></p>\n",
    "\n",
    "- When you have a display that clearly illustrates clipping, stop the live output and acquire 100 ms of data. Ensure the data is saved to a file for use in your lab report. You should also report the DC offset, amplitude, and any other relevant waveform generator settings.\n",
    "\n",
    "- Plot histogram of unclipped and clipped signal.  Comment on the shape of the histogram. <br><p></p>\n",
    "\n"
   ]
  },
  {
   "cell_type": "markdown",
   "metadata": {},
   "source": [
    "### Part IV - Signal Reconstruction\n",
    "\n",
    "A signal contaminated with a high-frequency noise will be simulated. This requires using advanced function in the waveform generator to generate the sum of two signals. The carrier wave is a sine wave, 0.1 Hz, 50 mV. The noise is a sine wave at 3.1 Hz with amplitude 10 mV. <br><p></p>\n",
    "\n",
    "1. Program the sum of the two sines in the waveform generator. In order to sum high frequency noise to carrier signal, go to modulate button on waveform function generator. Turn on modulate and choose sum under type, internal under source. Choose sine as shape of the noise and give the sum amplitude and frequency as it mentioned above.<br><p></p>\n",
    "\n",
    "2. Monitor that you have the proper signal on the oscilloscope. <br><p></p>\n",
    "\n",
    "3. Switch the ***DAQ*** board over to ***NI 9201***, connecting the output wires to the `AI0` and `COM` terminals.  Remember to change the name of the DAQ and module type in the aquire functiomn\n",
    "\n",
    "4.  Send the signal directly to the DAQ system (i.e. without going through the anti-aliasing filter that you have created).<br><p></p> \n",
    "\n",
    "5. Sample at 10 Hz with 128 data points per scan. You should observe the low frequency signal nicely, but the high frequency signal should yield some aliasing. Plot the FFT using the acquire function to observe measured frequency. <br><p></p>\n",
    "\n",
    "5. Save the time trace and recreate the frequency spectrum for your lab report. Estimate the frequency of the two signals from the frequency spectrum plot. Calculate the frequency resolution of your DAQ system for this sampling frequency and comment on the resolution of your signal.<br><p></p>\n",
    "\n",
    "6. Plot the original analog signal using the Cardinal series <br><p></p>\n",
    "\n",
    "7. Redo *Steps 4, 5, & 6* with a sampling frequency of:<br><p></p>\n",
    "\n",
    "  - 5 Hz<br><p></p>\n",
    "  \n",
    "  - 25 Hz<br><p></p>\n",
    "  \n",
    "  - 100 Hz<br><p></p>\n",
    "  \n",
    "\n",
    "  \n",
    " "
   ]
  },
  {
   "cell_type": "markdown",
   "metadata": {},
   "source": [
    "# Discussion Questions\n",
    "\n",
    "1. Which statistical tool/graph could you use to identify if some clipping took place in your data? What would you expect to see? <br><p></p>\n",
    "\n",
    "2. For *Part IV* :\n",
    "\n",
    "  A. Which frequency was the optimum to record your signal? Hint: think about the frequency resolution.\n",
    "    \n",
    "  B.  Can you think a way to acquire the signal without aliasing ? "
   ]
  },
  {
   "cell_type": "markdown",
   "metadata": {},
   "source": [
    "# Appendices \n",
    "\n",
    "## Appendix A - NI cDAQ-9174\n",
    "\n",
    "<img src=\"img/cDAQ-9174.png\" width=240 align=\"left\"><br><br><br><br><br><br><br><br>\n",
    "\n",
    "[Online Manual](https://www.ni.com/documentation/en/compactdaq-chassis/latest/cdaq-9174/overview/)\n",
    "\n",
    "[User Manual](https://www.ni.com/pdf/manuals/372838e.pdf)\n",
    "\n",
    "[Specification Sheet](https://www.ni.com/pdf/manuals/374045a.pdf)\n",
    "\n",
    "## Appendix B - NI 9211\n",
    "\n",
    "<img src=\"img/NI-9211.png\" width=240 align=\"left\"><br><br><br><br><br><br><br><br><br><br><br><br><br><br><br>\n",
    "\n",
    "\n",
    "\n",
    "[Manual](https://www.ni.com/docs/en-US/bundle/ni-9211-getting-started/page/GUID-93E1C7B1-3F4D-4931-9C3F-2C0225501417.html)\n",
    "\n",
    "[Datasheet](https://www.ni.com/docs/en-US/bundle/ni-9211-specs/page/specifications.html)\n",
    "\n",
    "**Signal Level**: ± 80mV\n",
    "\n",
    "**Channels**: 4 Thermocouple Channels\n",
    "\n",
    "**Max Sample Rate (Scanning)**: 14 S/s\n",
    "\n",
    "**Simultaneous** No\n",
    "\n",
    "**ADC Resolution**: 24-Bit\n",
    "\n",
    "**Type of ADC**: Delta-Sigma \n"
   ]
  },
  {
   "cell_type": "code",
   "execution_count": null,
   "metadata": {},
   "outputs": [],
   "source": []
  }
 ],
 "metadata": {
  "kernelspec": {
   "display_name": "Python 3 (ipykernel)",
   "language": "python",
   "name": "python3"
  },
  "language_info": {
   "codemirror_mode": {
    "name": "ipython",
    "version": 3
   },
   "file_extension": ".py",
   "mimetype": "text/x-python",
   "name": "python",
   "nbconvert_exporter": "python",
   "pygments_lexer": "ipython3",
   "version": "3.9.13"
  }
 },
 "nbformat": 4,
 "nbformat_minor": 2
}
